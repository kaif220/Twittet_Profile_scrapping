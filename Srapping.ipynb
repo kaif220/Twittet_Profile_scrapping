{
 "cells": [
  {
   "cell_type": "code",
   "execution_count": 1,
   "metadata": {},
   "outputs": [
    {
     "name": "stdout",
     "output_type": "stream",
     "text": [
      "Scraped data saved to twitter_profiles.csv\n"
     ]
    }
   ],
   "source": [
    "import time\n",
    "import pandas as pd\n",
    "from selenium import webdriver\n",
    "from selenium.webdriver.common.by import By\n",
    "from selenium.webdriver.chrome.options import Options\n",
    "from selenium.webdriver.support.ui import WebDriverWait\n",
    "from selenium.webdriver.support import expected_conditions as EC\n",
    "\n",
    "options = Options()\n",
    "options.add_argument(\"--headless\")\n",
    "options.add_argument(\"--disable-gpu\")\n",
    "options.add_argument(\"--window-size=1920x1080\")\n",
    "options.add_argument(\"--no-sandbox\")\n",
    "options.add_argument(\"--disable-dev-shm-usage\")\n",
    "\n",
    "driver = webdriver.Chrome(options=options)\n",
    "\n",
    "input_file = \"twitter_links.csv\"\n",
    "df = pd.read_csv(input_file)\n",
    "\n",
    "output_file = \"twitter_profiles.csv\"\n",
    "columns = [\"Twitter Link\", \"Bio\", \"Following Count\", \"Followers Count\", \"Location\", \"Website\"]\n",
    "output_data = []\n",
    "\n",
    "def scrape_twitter_profile(url):\n",
    "    driver.get(url)\n",
    "    wait = WebDriverWait(driver, 10)\n",
    "    \n",
    "    def get_text(xpath):\n",
    "        try:\n",
    "            element = wait.until(EC.presence_of_element_located((By.XPATH, xpath)))\n",
    "            return element.text.strip()\n",
    "        except:\n",
    "            return \"N/A\"\n",
    "    \n",
    "    def get_href(xpath):\n",
    "        try:\n",
    "            element = wait.until(EC.presence_of_element_located((By.XPATH, xpath)))\n",
    "            return element.get_attribute(\"href\")\n",
    "        except:\n",
    "            return \"N/A\"\n",
    "    \n",
    "    bio = get_text(\"/html/body/div[1]/div/div/div[2]/main/div/div/div/div/div/div[3]/div/div/div[1]/div/div[3]/div/div/span\")\n",
    "    following_count = get_text(\"/html/body/div[1]/div/div/div[2]/main/div/div/div/div/div/div[3]/div/div/div[1]/div/div[5]/div[1]/a/span[1]/span\")\n",
    "    followers_count = get_text(\"/html/body/div[1]/div/div/div[2]/main/div/div/div/div/div/div[3]/div/div/div[1]/div/div[5]/div[2]/a/span[1]/span\")\n",
    "    location = get_text(\"/html/body/div[1]/div/div/div[2]/main/div/div/div/div/div/div[3]/div/div/div[1]/div/div[4]/div/span[1]/span/span\")\n",
    "    website = get_href(\"/html/body/div[1]/div/div/div[2]/main/div/div/div/div/div/div[3]/div/div/div[1]/div/div[4]/div/a/span\")\n",
    "    \n",
    "    return [url, bio, following_count, followers_count, location, website]\n",
    "\n",
    "for index, row in df.iterrows():\n",
    "    twitter_link = row.iloc[0]\n",
    "    try:\n",
    "        profile_data = scrape_twitter_profile(twitter_link)\n",
    "        output_data.append(profile_data)\n",
    "    except Exception as e:\n",
    "        print(f\"Error scraping {twitter_link}: {e}\")\n",
    "        output_data.append([twitter_link, \"Error\", \"Error\", \"Error\", \"Error\", \"Error\"])\n",
    "\n",
    "output_df = pd.DataFrame(output_data, columns=columns)\n",
    "output_df.to_csv(output_file, index=False)\n",
    "\n",
    "driver.quit()\n",
    "print(f\"Scraped data saved to {output_file}\")\n"
   ]
  },
  {
   "cell_type": "code",
   "execution_count": null,
   "metadata": {},
   "outputs": [],
   "source": []
  }
 ],
 "metadata": {
  "kernelspec": {
   "display_name": "Python 3",
   "language": "python",
   "name": "python3"
  },
  "language_info": {
   "codemirror_mode": {
    "name": "ipython",
    "version": 3
   },
   "file_extension": ".py",
   "mimetype": "text/x-python",
   "name": "python",
   "nbconvert_exporter": "python",
   "pygments_lexer": "ipython3",
   "version": "3.13.2"
  }
 },
 "nbformat": 4,
 "nbformat_minor": 2
}
